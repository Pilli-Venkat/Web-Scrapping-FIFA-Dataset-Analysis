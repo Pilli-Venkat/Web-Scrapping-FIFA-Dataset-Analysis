{
  "nbformat": 4,
  "nbformat_minor": 0,
  "metadata": {
    "colab": {
      "name": "FIFA Dataset Analysis(Web Scrapping).ipynb",
      "provenance": [],
      "collapsed_sections": [],
      "toc_visible": true,
      "authorship_tag": "ABX9TyOiTWSXXPWvHTlPdNsW16ul",
      "include_colab_link": true
    },
    "kernelspec": {
      "name": "python3",
      "display_name": "Python 3"
    },
    "language_info": {
      "name": "python"
    }
  },
  "cells": [
    {
      "cell_type": "markdown",
      "metadata": {
        "id": "view-in-github",
        "colab_type": "text"
      },
      "source": [
        "<a href=\"https://colab.research.google.com/github/Pilli-Venkat/Web-Scrapping-FIFA-Dataset-Analysis/blob/main/FIFA_Dataset_Analysis(Web_Scrapping).ipynb\" target=\"_parent\"><img src=\"https://colab.research.google.com/assets/colab-badge.svg\" alt=\"Open In Colab\"/></a>"
      ]
    },
    {
      "cell_type": "code",
      "metadata": {
        "id": "OA_i45PVUwhL"
      },
      "source": [
        ""
      ],
      "execution_count": null,
      "outputs": []
    },
    {
      "cell_type": "markdown",
      "metadata": {
        "id": "sc006hX_e9MS"
      },
      "source": [
        "# Importing libraries"
      ]
    },
    {
      "cell_type": "code",
      "metadata": {
        "id": "ksYojq9FfFCV"
      },
      "source": [
        "import numpy as np\n",
        "import pandas as pd\n",
        "import re\n",
        "from bs4 import BeautifulSoup \n",
        "import requests\n",
        "import matplotlib.pyplot as plt"
      ],
      "execution_count": 211,
      "outputs": []
    },
    {
      "cell_type": "markdown",
      "metadata": {
        "id": "f5BKZJnugC7G"
      },
      "source": [
        "# Web Scrapping"
      ]
    },
    {
      "cell_type": "code",
      "metadata": {
        "id": "N7oDWZJeXdR6"
      },
      "source": [
        "Image_link   =  []\n",
        "Name=[]\n",
        "Age    =        []\n",
        "OVA     =       []\n",
        "POT      =      []\n",
        "Team    =       []\n",
        "Duration =     []\n",
        "Value    =     []\n",
        "Wage     =      []\n",
        "Total_stats =  []\n",
        "Hits    =      []"
      ],
      "execution_count": 127,
      "outputs": []
    },
    {
      "cell_type": "code",
      "metadata": {
        "id": "KehAaChna_4p"
      },
      "source": [
        "for j in range(1,11):\n",
        "   url = f'https://sofifa.com/players?offset={j}'\n",
        "   req= requests.get(url)\n",
        "   soup = BeautifulSoup(req.content,'html.parser')\n",
        "   for i in range(0,60):\n",
        "    #name\n",
        "    Name.append(re.sub('<a.*tip=\"|\".*','',str(soup.findAll('a', class_ = \"tooltip\")[i])))\n",
        "    #age\n",
        "    Age.append(re.sub('<td.*e\">|</td>','',str(soup.findAll('td', class_ = \"col col-ae\")[i])))\n",
        "    #ova\n",
        "    OVA.append(soup.findAll('td',class_ = 'col col-oa')[i].text)\n",
        "    #pot\n",
        "    POT.append(soup.findAll('td',class_ = 'col col-pt')[i].text)\n",
        "    #team\n",
        "    Team.append(re.sub('<a.*title=\"|\">.*/>|<a.*/\">|</a>|amp;','',str(soup.findAll('tr')[1+i].findAll('a')[-1])))\n",
        "    #Duration\n",
        "    Duration.append(re.sub('<div.*>\\n|<.*','',str(soup.findAll('div', class_ = \"sub\")[i])))\n",
        "    #'Value', \n",
        "    Value.append(re.sub('<td.*\">€|M</td>|</td>|K','',str(soup.findAll('td', class_ = \"col col-vl\")[i])))\n",
        "    #'Wage',\n",
        "    Wage.append(re.sub('<td.*\">€|K</td>|</td>','',str(soup.findAll('td', class_ = \"col col-wg\")[i])) )\n",
        "    # 'Total_stats', \n",
        "    Total_stats.append(re.sub('<span.*p\">|</span>','',str(soup.findAll('span', class_ = \"bp3-tag p\")[i])))\n",
        "    \n",
        "    #'Hits'\n",
        "    Hits.append(re.sub('<td.*\">\\n|K</td>|</td>','',str(soup.findAll('td', class_ = \"col-comment\")[i])) )\n",
        " \n",
        "\n",
        "\n",
        "\n"
      ],
      "execution_count": 128,
      "outputs": []
    },
    {
      "cell_type": "markdown",
      "metadata": {
        "id": "xGhcE2N7ywrc"
      },
      "source": [
        "# Creating DataFrame"
      ]
    },
    {
      "cell_type": "code",
      "metadata": {
        "id": "CKmX34P9iidG"
      },
      "source": [
        "fifa = pd.DataFrame({'Name':Name, 'Age':Age, \n",
        "                     'OVA':OVA, 'POT':POT , 'Team':Team,\n",
        "                     'Duration':Duration , 'Value':Value, 'Wage': Wage, \n",
        "                     'Total_stats':Total_stats, 'Hits':Hits})"
      ],
      "execution_count": 129,
      "outputs": []
    },
    {
      "cell_type": "markdown",
      "metadata": {
        "id": "QhbcxtOKKWMF"
      },
      "source": [
        "# Data Exploration , Data cleaning , Data Manipulation"
      ]
    },
    {
      "cell_type": "code",
      "metadata": {
        "colab": {
          "base_uri": "https://localhost:8080/",
          "height": 204
        },
        "id": "BxqtWKJg1XsD",
        "outputId": "d0e0f03d-37c5-4099-dcfc-39831741d646"
      },
      "source": [
        "fifa.head()"
      ],
      "execution_count": 131,
      "outputs": [
        {
          "output_type": "execute_result",
          "data": {
            "text/html": [
              "<div>\n",
              "<style scoped>\n",
              "    .dataframe tbody tr th:only-of-type {\n",
              "        vertical-align: middle;\n",
              "    }\n",
              "\n",
              "    .dataframe tbody tr th {\n",
              "        vertical-align: top;\n",
              "    }\n",
              "\n",
              "    .dataframe thead th {\n",
              "        text-align: right;\n",
              "    }\n",
              "</style>\n",
              "<table border=\"1\" class=\"dataframe\">\n",
              "  <thead>\n",
              "    <tr style=\"text-align: right;\">\n",
              "      <th></th>\n",
              "      <th>Name</th>\n",
              "      <th>Age</th>\n",
              "      <th>OVA</th>\n",
              "      <th>POT</th>\n",
              "      <th>Team</th>\n",
              "      <th>Duration</th>\n",
              "      <th>Value</th>\n",
              "      <th>Wage</th>\n",
              "      <th>Total_stats</th>\n",
              "      <th>Hits</th>\n",
              "    </tr>\n",
              "  </thead>\n",
              "  <tbody>\n",
              "    <tr>\n",
              "      <th>0</th>\n",
              "      <td>Neal Maupay</td>\n",
              "      <td>23</td>\n",
              "      <td>77</td>\n",
              "      <td>81</td>\n",
              "      <td>Brighton &amp; Hove Albion</td>\n",
              "      <td>2019 ~ 2023</td>\n",
              "      <td>15.5</td>\n",
              "      <td>52</td>\n",
              "      <td>1932</td>\n",
              "      <td>1.2</td>\n",
              "    </tr>\n",
              "    <tr>\n",
              "      <th>1</th>\n",
              "      <td>Joseph Minala</td>\n",
              "      <td>23</td>\n",
              "      <td>68</td>\n",
              "      <td>74</td>\n",
              "      <td>Lazio</td>\n",
              "      <td>2013 ~ 2025</td>\n",
              "      <td>1.9</td>\n",
              "      <td>17</td>\n",
              "      <td>1821</td>\n",
              "      <td>1.1</td>\n",
              "    </tr>\n",
              "    <tr>\n",
              "      <th>2</th>\n",
              "      <td>Christos Tzolis</td>\n",
              "      <td>18</td>\n",
              "      <td>73</td>\n",
              "      <td>87</td>\n",
              "      <td>PAOK</td>\n",
              "      <td>2019 ~ 2024</td>\n",
              "      <td>7</td>\n",
              "      <td>500</td>\n",
              "      <td>1875</td>\n",
              "      <td>876</td>\n",
              "    </tr>\n",
              "    <tr>\n",
              "      <th>3</th>\n",
              "      <td>Saúl Ñíguez Esclápez</td>\n",
              "      <td>25</td>\n",
              "      <td>83</td>\n",
              "      <td>86</td>\n",
              "      <td>Atlético Madrid</td>\n",
              "      <td>2013 ~ 2026</td>\n",
              "      <td>47.5</td>\n",
              "      <td>71</td>\n",
              "      <td>2211</td>\n",
              "      <td>857</td>\n",
              "    </tr>\n",
              "    <tr>\n",
              "      <th>4</th>\n",
              "      <td>Kylian Mbappé</td>\n",
              "      <td>21</td>\n",
              "      <td>90</td>\n",
              "      <td>95</td>\n",
              "      <td>Paris Saint-Germain</td>\n",
              "      <td>2018 ~ 2022</td>\n",
              "      <td>185.5</td>\n",
              "      <td>160</td>\n",
              "      <td>2157</td>\n",
              "      <td>811</td>\n",
              "    </tr>\n",
              "  </tbody>\n",
              "</table>\n",
              "</div>"
            ],
            "text/plain": [
              "                   Name Age OVA POT  ...  Value Wage Total_stats Hits\n",
              "0           Neal Maupay  23  77  81  ...   15.5   52        1932  1.2\n",
              "1         Joseph Minala  23  68  74  ...    1.9   17        1821  1.1\n",
              "2       Christos Tzolis  18  73  87  ...      7  500        1875  876\n",
              "3  Saúl Ñíguez Esclápez  25  83  86  ...   47.5   71        2211  857\n",
              "4         Kylian Mbappé  21  90  95  ...  185.5  160        2157  811\n",
              "\n",
              "[5 rows x 10 columns]"
            ]
          },
          "metadata": {},
          "execution_count": 131
        }
      ]
    },
    {
      "cell_type": "code",
      "metadata": {
        "colab": {
          "base_uri": "https://localhost:8080/",
          "height": 204
        },
        "id": "sQ2PQnRe2A_b",
        "outputId": "f9df7617-c292-495f-85de-e03695f4f466"
      },
      "source": [
        "fifa.tail()"
      ],
      "execution_count": 137,
      "outputs": [
        {
          "output_type": "execute_result",
          "data": {
            "text/html": [
              "<div>\n",
              "<style scoped>\n",
              "    .dataframe tbody tr th:only-of-type {\n",
              "        vertical-align: middle;\n",
              "    }\n",
              "\n",
              "    .dataframe tbody tr th {\n",
              "        vertical-align: top;\n",
              "    }\n",
              "\n",
              "    .dataframe thead th {\n",
              "        text-align: right;\n",
              "    }\n",
              "</style>\n",
              "<table border=\"1\" class=\"dataframe\">\n",
              "  <thead>\n",
              "    <tr style=\"text-align: right;\">\n",
              "      <th></th>\n",
              "      <th>Name</th>\n",
              "      <th>Age</th>\n",
              "      <th>OVA</th>\n",
              "      <th>POT</th>\n",
              "      <th>Team</th>\n",
              "      <th>Duration</th>\n",
              "      <th>Value</th>\n",
              "      <th>Wage</th>\n",
              "      <th>Total_stats</th>\n",
              "      <th>Hits</th>\n",
              "    </tr>\n",
              "  </thead>\n",
              "  <tbody>\n",
              "    <tr>\n",
              "      <th>595</th>\n",
              "      <td>Federico Valverde</td>\n",
              "      <td>21</td>\n",
              "      <td>83</td>\n",
              "      <td>89</td>\n",
              "      <td>Real Madrid</td>\n",
              "      <td>2016 ~ 2025</td>\n",
              "      <td>58.0</td>\n",
              "      <td>135</td>\n",
              "      <td>2173</td>\n",
              "      <td>171.0</td>\n",
              "    </tr>\n",
              "    <tr>\n",
              "      <th>596</th>\n",
              "      <td>Adam Hložek</td>\n",
              "      <td>17</td>\n",
              "      <td>74</td>\n",
              "      <td>87</td>\n",
              "      <td>Sparta Praha</td>\n",
              "      <td>2019 ~ 2022</td>\n",
              "      <td>9.5</td>\n",
              "      <td>500</td>\n",
              "      <td>1881</td>\n",
              "      <td>168.0</td>\n",
              "    </tr>\n",
              "    <tr>\n",
              "      <th>597</th>\n",
              "      <td>Jadon Sancho</td>\n",
              "      <td>20</td>\n",
              "      <td>87</td>\n",
              "      <td>92</td>\n",
              "      <td>Borussia Dortmund</td>\n",
              "      <td>2017 ~ 2023</td>\n",
              "      <td>118.5</td>\n",
              "      <td>82</td>\n",
              "      <td>2011</td>\n",
              "      <td>167.0</td>\n",
              "    </tr>\n",
              "    <tr>\n",
              "      <th>598</th>\n",
              "      <td>Alan Velasco</td>\n",
              "      <td>17</td>\n",
              "      <td>73</td>\n",
              "      <td>86</td>\n",
              "      <td>Independiente</td>\n",
              "      <td>2018 ~ 2023</td>\n",
              "      <td>7.0</td>\n",
              "      <td>2</td>\n",
              "      <td>1884</td>\n",
              "      <td>164.0</td>\n",
              "    </tr>\n",
              "    <tr>\n",
              "      <th>599</th>\n",
              "      <td>Weston McKennie</td>\n",
              "      <td>21</td>\n",
              "      <td>77</td>\n",
              "      <td>85</td>\n",
              "      <td>Juventus</td>\n",
              "      <td>2021 ~ 2025</td>\n",
              "      <td>23.5</td>\n",
              "      <td>48</td>\n",
              "      <td>2125</td>\n",
              "      <td>163.0</td>\n",
              "    </tr>\n",
              "  </tbody>\n",
              "</table>\n",
              "</div>"
            ],
            "text/plain": [
              "                  Name  Age  OVA  POT  ...  Value Wage  Total_stats   Hits\n",
              "595  Federico Valverde   21   83   89  ...   58.0  135         2173  171.0\n",
              "596        Adam Hložek   17   74   87  ...    9.5  500         1881  168.0\n",
              "597       Jadon Sancho   20   87   92  ...  118.5   82         2011  167.0\n",
              "598       Alan Velasco   17   73   86  ...    7.0    2         1884  164.0\n",
              "599    Weston McKennie   21   77   85  ...   23.5   48         2125  163.0\n",
              "\n",
              "[5 rows x 10 columns]"
            ]
          },
          "metadata": {},
          "execution_count": 137
        }
      ]
    },
    {
      "cell_type": "code",
      "metadata": {
        "colab": {
          "base_uri": "https://localhost:8080/"
        },
        "id": "xPPBUnuC2D8c",
        "outputId": "79de30cf-f8ab-4f88-aaeb-76e3da138efb"
      },
      "source": [
        "fifa.shape"
      ],
      "execution_count": 138,
      "outputs": [
        {
          "output_type": "execute_result",
          "data": {
            "text/plain": [
              "(600, 10)"
            ]
          },
          "metadata": {},
          "execution_count": 138
        }
      ]
    },
    {
      "cell_type": "code",
      "metadata": {
        "colab": {
          "base_uri": "https://localhost:8080/"
        },
        "id": "7zQUhyzdyrXb",
        "outputId": "ea472aeb-2862-4e84-ea83-534ea45c6a68"
      },
      "source": [
        "fifa.columns"
      ],
      "execution_count": 132,
      "outputs": [
        {
          "output_type": "execute_result",
          "data": {
            "text/plain": [
              "Index(['Name', 'Age', 'OVA', 'POT', 'Team', 'Duration', 'Value', 'Wage',\n",
              "       'Total_stats', 'Hits'],\n",
              "      dtype='object')"
            ]
          },
          "metadata": {},
          "execution_count": 132
        }
      ]
    },
    {
      "cell_type": "code",
      "metadata": {
        "colab": {
          "base_uri": "https://localhost:8080/"
        },
        "id": "Irqw3MfHzcz-",
        "outputId": "1f67c62f-cb2d-49c7-e7f7-ec37e76bab12"
      },
      "source": [
        "fifa.dtypes"
      ],
      "execution_count": 133,
      "outputs": [
        {
          "output_type": "execute_result",
          "data": {
            "text/plain": [
              "Name           object\n",
              "Age            object\n",
              "OVA            object\n",
              "POT            object\n",
              "Team           object\n",
              "Duration       object\n",
              "Value          object\n",
              "Wage           object\n",
              "Total_stats    object\n",
              "Hits           object\n",
              "dtype: object"
            ]
          },
          "metadata": {},
          "execution_count": 133
        }
      ]
    },
    {
      "cell_type": "markdown",
      "metadata": {
        "id": "HN-P2lDnznDl"
      },
      "source": [
        "Converting Data types into numerics"
      ]
    },
    {
      "cell_type": "code",
      "metadata": {
        "id": "6o_hcmPszhmW"
      },
      "source": [
        "fifa['Age'] = pd.to_numeric(fifa['Age'])\n",
        "fifa['OVA'] = pd.to_numeric(fifa['OVA'])\n",
        "fifa['POT'] = pd.to_numeric(fifa['POT'])\n",
        "fifa['Value'] = pd.to_numeric(fifa['Value'])\n",
        "fifa['Wage'] = pd.to_numeric(fifa['Wage'])\n",
        "fifa['Total_stats'] = pd.to_numeric(fifa['Total_stats'])\n",
        "fifa['Hits'] = pd.to_numeric(fifa['Hits'])"
      ],
      "execution_count": 134,
      "outputs": []
    },
    {
      "cell_type": "code",
      "metadata": {
        "colab": {
          "base_uri": "https://localhost:8080/",
          "height": 296
        },
        "id": "Mp8ezMkmz8JM",
        "outputId": "d3a9b371-5e8e-4fe4-804a-447d79ab8c8b"
      },
      "source": [
        "fifa.describe()"
      ],
      "execution_count": 135,
      "outputs": [
        {
          "output_type": "execute_result",
          "data": {
            "text/html": [
              "<div>\n",
              "<style scoped>\n",
              "    .dataframe tbody tr th:only-of-type {\n",
              "        vertical-align: middle;\n",
              "    }\n",
              "\n",
              "    .dataframe tbody tr th {\n",
              "        vertical-align: top;\n",
              "    }\n",
              "\n",
              "    .dataframe thead th {\n",
              "        text-align: right;\n",
              "    }\n",
              "</style>\n",
              "<table border=\"1\" class=\"dataframe\">\n",
              "  <thead>\n",
              "    <tr style=\"text-align: right;\">\n",
              "      <th></th>\n",
              "      <th>Age</th>\n",
              "      <th>OVA</th>\n",
              "      <th>POT</th>\n",
              "      <th>Value</th>\n",
              "      <th>Wage</th>\n",
              "      <th>Total_stats</th>\n",
              "      <th>Hits</th>\n",
              "    </tr>\n",
              "  </thead>\n",
              "  <tbody>\n",
              "    <tr>\n",
              "      <th>count</th>\n",
              "      <td>600.000000</td>\n",
              "      <td>600.000000</td>\n",
              "      <td>600.000000</td>\n",
              "      <td>600.00000</td>\n",
              "      <td>600.000000</td>\n",
              "      <td>600.000000</td>\n",
              "      <td>600.000000</td>\n",
              "    </tr>\n",
              "    <tr>\n",
              "      <th>mean</th>\n",
              "      <td>20.885000</td>\n",
              "      <td>77.458333</td>\n",
              "      <td>86.336667</td>\n",
              "      <td>42.65400</td>\n",
              "      <td>86.991667</td>\n",
              "      <td>1934.396667</td>\n",
              "      <td>291.524000</td>\n",
              "    </tr>\n",
              "    <tr>\n",
              "      <th>std</th>\n",
              "      <td>3.733408</td>\n",
              "      <td>6.377255</td>\n",
              "      <td>4.124116</td>\n",
              "      <td>82.52751</td>\n",
              "      <td>134.087686</td>\n",
              "      <td>212.230234</td>\n",
              "      <td>147.053857</td>\n",
              "    </tr>\n",
              "    <tr>\n",
              "      <th>min</th>\n",
              "      <td>16.000000</td>\n",
              "      <td>60.000000</td>\n",
              "      <td>73.000000</td>\n",
              "      <td>0.00000</td>\n",
              "      <td>0.000000</td>\n",
              "      <td>1039.000000</td>\n",
              "      <td>1.100000</td>\n",
              "    </tr>\n",
              "    <tr>\n",
              "      <th>25%</th>\n",
              "      <td>18.000000</td>\n",
              "      <td>74.000000</td>\n",
              "      <td>84.000000</td>\n",
              "      <td>9.50000</td>\n",
              "      <td>11.000000</td>\n",
              "      <td>1840.000000</td>\n",
              "      <td>192.000000</td>\n",
              "    </tr>\n",
              "    <tr>\n",
              "      <th>50%</th>\n",
              "      <td>20.000000</td>\n",
              "      <td>78.000000</td>\n",
              "      <td>87.000000</td>\n",
              "      <td>24.50000</td>\n",
              "      <td>40.000000</td>\n",
              "      <td>1957.000000</td>\n",
              "      <td>237.000000</td>\n",
              "    </tr>\n",
              "    <tr>\n",
              "      <th>75%</th>\n",
              "      <td>23.000000</td>\n",
              "      <td>81.000000</td>\n",
              "      <td>89.000000</td>\n",
              "      <td>45.50000</td>\n",
              "      <td>82.000000</td>\n",
              "      <td>2086.000000</td>\n",
              "      <td>329.000000</td>\n",
              "    </tr>\n",
              "    <tr>\n",
              "      <th>max</th>\n",
              "      <td>35.000000</td>\n",
              "      <td>93.000000</td>\n",
              "      <td>95.000000</td>\n",
              "      <td>625.00000</td>\n",
              "      <td>560.000000</td>\n",
              "      <td>2347.000000</td>\n",
              "      <td>877.000000</td>\n",
              "    </tr>\n",
              "  </tbody>\n",
              "</table>\n",
              "</div>"
            ],
            "text/plain": [
              "              Age         OVA         POT  ...        Wage  Total_stats        Hits\n",
              "count  600.000000  600.000000  600.000000  ...  600.000000   600.000000  600.000000\n",
              "mean    20.885000   77.458333   86.336667  ...   86.991667  1934.396667  291.524000\n",
              "std      3.733408    6.377255    4.124116  ...  134.087686   212.230234  147.053857\n",
              "min     16.000000   60.000000   73.000000  ...    0.000000  1039.000000    1.100000\n",
              "25%     18.000000   74.000000   84.000000  ...   11.000000  1840.000000  192.000000\n",
              "50%     20.000000   78.000000   87.000000  ...   40.000000  1957.000000  237.000000\n",
              "75%     23.000000   81.000000   89.000000  ...   82.000000  2086.000000  329.000000\n",
              "max     35.000000   93.000000   95.000000  ...  560.000000  2347.000000  877.000000\n",
              "\n",
              "[8 rows x 7 columns]"
            ]
          },
          "metadata": {},
          "execution_count": 135
        }
      ]
    },
    {
      "cell_type": "code",
      "metadata": {
        "colab": {
          "base_uri": "https://localhost:8080/"
        },
        "id": "qP_DZ4frf9v8",
        "outputId": "8f64ea28-91af-42c8-ec5c-04e24a192276"
      },
      "source": [
        "fifa.info()"
      ],
      "execution_count": 136,
      "outputs": [
        {
          "output_type": "stream",
          "text": [
            "<class 'pandas.core.frame.DataFrame'>\n",
            "RangeIndex: 600 entries, 0 to 599\n",
            "Data columns (total 10 columns):\n",
            " #   Column       Non-Null Count  Dtype  \n",
            "---  ------       --------------  -----  \n",
            " 0   Name         600 non-null    object \n",
            " 1   Age          600 non-null    int64  \n",
            " 2   OVA          600 non-null    int64  \n",
            " 3   POT          600 non-null    int64  \n",
            " 4   Team         600 non-null    object \n",
            " 5   Duration     600 non-null    object \n",
            " 6   Value        600 non-null    float64\n",
            " 7   Wage         600 non-null    int64  \n",
            " 8   Total_stats  600 non-null    int64  \n",
            " 9   Hits         600 non-null    float64\n",
            "dtypes: float64(2), int64(5), object(3)\n",
            "memory usage: 47.0+ KB\n"
          ],
          "name": "stdout"
        }
      ]
    },
    {
      "cell_type": "markdown",
      "metadata": {
        "id": "T6TwJ_tZ5ypv"
      },
      "source": [
        "Duplicate Datas"
      ]
    },
    {
      "cell_type": "code",
      "metadata": {
        "id": "qI6DVMV60IQF",
        "colab": {
          "base_uri": "https://localhost:8080/"
        },
        "outputId": "026cc808-e8f6-493c-8c7c-fbecd792a8ba"
      },
      "source": [
        "fifa.duplicated().sum(axis=0)"
      ],
      "execution_count": 172,
      "outputs": [
        {
          "output_type": "execute_result",
          "data": {
            "text/plain": [
              "452"
            ]
          },
          "metadata": {},
          "execution_count": 172
        }
      ]
    },
    {
      "cell_type": "code",
      "metadata": {
        "id": "VCyu_LzD24uS"
      },
      "source": [
        "fifa.drop_duplicates(inplace=True)"
      ],
      "execution_count": 173,
      "outputs": []
    },
    {
      "cell_type": "code",
      "metadata": {
        "colab": {
          "base_uri": "https://localhost:8080/",
          "height": 296
        },
        "id": "z0Rh7w70i6AN",
        "outputId": "83fd45db-87c1-409c-b748-767d14ef4843"
      },
      "source": [
        "fifa.describe()"
      ],
      "execution_count": 174,
      "outputs": [
        {
          "output_type": "execute_result",
          "data": {
            "text/html": [
              "<div>\n",
              "<style scoped>\n",
              "    .dataframe tbody tr th:only-of-type {\n",
              "        vertical-align: middle;\n",
              "    }\n",
              "\n",
              "    .dataframe tbody tr th {\n",
              "        vertical-align: top;\n",
              "    }\n",
              "\n",
              "    .dataframe thead th {\n",
              "        text-align: right;\n",
              "    }\n",
              "</style>\n",
              "<table border=\"1\" class=\"dataframe\">\n",
              "  <thead>\n",
              "    <tr style=\"text-align: right;\">\n",
              "      <th></th>\n",
              "      <th>Age</th>\n",
              "      <th>OVA</th>\n",
              "      <th>POT</th>\n",
              "      <th>Value</th>\n",
              "      <th>Wage</th>\n",
              "      <th>Total_stats</th>\n",
              "      <th>Hits</th>\n",
              "    </tr>\n",
              "  </thead>\n",
              "  <tbody>\n",
              "    <tr>\n",
              "      <th>count</th>\n",
              "      <td>148.000000</td>\n",
              "      <td>148.000000</td>\n",
              "      <td>148.000000</td>\n",
              "      <td>148.000000</td>\n",
              "      <td>148.000000</td>\n",
              "      <td>148.000000</td>\n",
              "      <td>148.000000</td>\n",
              "    </tr>\n",
              "    <tr>\n",
              "      <th>mean</th>\n",
              "      <td>21.297297</td>\n",
              "      <td>77.844595</td>\n",
              "      <td>86.310811</td>\n",
              "      <td>37.129054</td>\n",
              "      <td>88.087838</td>\n",
              "      <td>1933.081081</td>\n",
              "      <td>338.191216</td>\n",
              "    </tr>\n",
              "    <tr>\n",
              "      <th>std</th>\n",
              "      <td>4.043067</td>\n",
              "      <td>6.313481</td>\n",
              "      <td>4.313957</td>\n",
              "      <td>59.254630</td>\n",
              "      <td>132.252229</td>\n",
              "      <td>212.836161</td>\n",
              "      <td>185.310338</td>\n",
              "    </tr>\n",
              "    <tr>\n",
              "      <th>min</th>\n",
              "      <td>16.000000</td>\n",
              "      <td>60.000000</td>\n",
              "      <td>73.000000</td>\n",
              "      <td>0.000000</td>\n",
              "      <td>0.000000</td>\n",
              "      <td>1039.000000</td>\n",
              "      <td>1.100000</td>\n",
              "    </tr>\n",
              "    <tr>\n",
              "      <th>25%</th>\n",
              "      <td>18.000000</td>\n",
              "      <td>74.000000</td>\n",
              "      <td>84.000000</td>\n",
              "      <td>9.500000</td>\n",
              "      <td>15.000000</td>\n",
              "      <td>1840.000000</td>\n",
              "      <td>192.750000</td>\n",
              "    </tr>\n",
              "    <tr>\n",
              "      <th>50%</th>\n",
              "      <td>21.000000</td>\n",
              "      <td>78.000000</td>\n",
              "      <td>87.000000</td>\n",
              "      <td>23.750000</td>\n",
              "      <td>40.000000</td>\n",
              "      <td>1947.000000</td>\n",
              "      <td>257.500000</td>\n",
              "    </tr>\n",
              "    <tr>\n",
              "      <th>75%</th>\n",
              "      <td>23.000000</td>\n",
              "      <td>81.000000</td>\n",
              "      <td>89.000000</td>\n",
              "      <td>45.500000</td>\n",
              "      <td>81.250000</td>\n",
              "      <td>2086.000000</td>\n",
              "      <td>456.750000</td>\n",
              "    </tr>\n",
              "    <tr>\n",
              "      <th>max</th>\n",
              "      <td>35.000000</td>\n",
              "      <td>93.000000</td>\n",
              "      <td>95.000000</td>\n",
              "      <td>625.000000</td>\n",
              "      <td>560.000000</td>\n",
              "      <td>2347.000000</td>\n",
              "      <td>877.000000</td>\n",
              "    </tr>\n",
              "  </tbody>\n",
              "</table>\n",
              "</div>"
            ],
            "text/plain": [
              "              Age         OVA         POT  ...        Wage  Total_stats        Hits\n",
              "count  148.000000  148.000000  148.000000  ...  148.000000   148.000000  148.000000\n",
              "mean    21.297297   77.844595   86.310811  ...   88.087838  1933.081081  338.191216\n",
              "std      4.043067    6.313481    4.313957  ...  132.252229   212.836161  185.310338\n",
              "min     16.000000   60.000000   73.000000  ...    0.000000  1039.000000    1.100000\n",
              "25%     18.000000   74.000000   84.000000  ...   15.000000  1840.000000  192.750000\n",
              "50%     21.000000   78.000000   87.000000  ...   40.000000  1947.000000  257.500000\n",
              "75%     23.000000   81.000000   89.000000  ...   81.250000  2086.000000  456.750000\n",
              "max     35.000000   93.000000   95.000000  ...  560.000000  2347.000000  877.000000\n",
              "\n",
              "[8 rows x 7 columns]"
            ]
          },
          "metadata": {},
          "execution_count": 174
        }
      ]
    },
    {
      "cell_type": "code",
      "metadata": {
        "id": "wxXF2r0bkfwJ",
        "colab": {
          "base_uri": "https://localhost:8080/"
        },
        "outputId": "f8bd0e31-4ff5-44b0-815b-131724c3c170"
      },
      "source": [
        "fifa.shape"
      ],
      "execution_count": 204,
      "outputs": [
        {
          "output_type": "execute_result",
          "data": {
            "text/plain": [
              "(148, 10)"
            ]
          },
          "metadata": {},
          "execution_count": 204
        }
      ]
    },
    {
      "cell_type": "markdown",
      "metadata": {
        "id": "nXg7IUYUK4OW"
      },
      "source": [
        "# Data Analysis"
      ]
    },
    {
      "cell_type": "markdown",
      "metadata": {
        "id": "nkzWhkVXKy1c"
      },
      "source": [
        "Find the name of the player who is having the highest wage."
      ]
    },
    {
      "cell_type": "code",
      "metadata": {
        "colab": {
          "base_uri": "https://localhost:8080/"
        },
        "id": "j2x8qfsKKzvC",
        "outputId": "312388b8-c287-4e2f-9e11-43d176b93326"
      },
      "source": [
        "name=fifa[fifa['Wage']==max(fifa['Wage'])]['Name'].unique()\n",
        "print(f'The name of the player who is having the highest wage : {name[0]}')"
      ],
      "execution_count": 273,
      "outputs": [
        {
          "output_type": "stream",
          "text": [
            "The name of the player who is having the highest wage : Lionel Messi\n"
          ],
          "name": "stdout"
        }
      ]
    },
    {
      "cell_type": "markdown",
      "metadata": {
        "id": "l0VeYBP66Zuk"
      },
      "source": [
        "Find the youngest player\n",
        "\n"
      ]
    },
    {
      "cell_type": "code",
      "metadata": {
        "colab": {
          "base_uri": "https://localhost:8080/"
        },
        "id": "i0-MRaQVgJVl",
        "outputId": "0c9e81bc-f035-45db-9654-e869f1ead599"
      },
      "source": [
        "(fifa[fifa.Age== min(fifa.Age)]['Name'].unique())[0]\n",
        "print(f\"The youngest player is {(fifa[fifa.Age== min(fifa.Age)]['Name'].unique())[0]}\")"
      ],
      "execution_count": 184,
      "outputs": [
        {
          "output_type": "stream",
          "text": [
            "The youngest player is Rayan Cherki\n"
          ],
          "name": "stdout"
        }
      ]
    },
    {
      "cell_type": "markdown",
      "metadata": {
        "id": "oDJ_gcFn7D7X"
      },
      "source": [
        "Find the oldest player"
      ]
    },
    {
      "cell_type": "code",
      "metadata": {
        "colab": {
          "base_uri": "https://localhost:8080/"
        },
        "id": "rq3sxBMJ37Fn",
        "outputId": "915eafc4-f351-4acb-a91f-269d568ba00a"
      },
      "source": [
        "(fifa[fifa.Age== max(fifa.Age)]['Name'].unique())[0]\n",
        "print(f\"The oldest player is {(fifa[fifa.Age== max(fifa.Age)]['Name'].unique())[0]}\")"
      ],
      "execution_count": 188,
      "outputs": [
        {
          "output_type": "stream",
          "text": [
            "The oldest player is C. Ronaldo dos Santos Aveiro\n"
          ],
          "name": "stdout"
        }
      ]
    },
    {
      "cell_type": "markdown",
      "metadata": {
        "id": "VSa_WUuV7aPj"
      },
      "source": [
        "List out the Top 10 players according to their POT"
      ]
    },
    {
      "cell_type": "code",
      "metadata": {
        "colab": {
          "base_uri": "https://localhost:8080/"
        },
        "id": "T_wsyZ3CkLl1",
        "outputId": "012bef52-a118-4c64-da04-54284511e174"
      },
      "source": [
        "(fifa.sort_values(by='POT',ascending=False)['Name'].unique())[0:10]"
      ],
      "execution_count": 203,
      "outputs": [
        {
          "output_type": "execute_result",
          "data": {
            "text/plain": [
              "array(['Kylian Mbappé', 'Lionel Messi', 'Erling Haaland',\n",
              "       'C. Ronaldo dos Santos Aveiro', 'Jadon Sancho', 'Phil Foden',\n",
              "       'Pedro González López', 'Frenkie de Jong', 'Matvey Safonov',\n",
              "       'Bruno Miguel Borges Fernandes'], dtype=object)"
            ]
          },
          "metadata": {},
          "execution_count": 203
        }
      ]
    },
    {
      "cell_type": "code",
      "metadata": {
        "id": "352PNIdBk7ty"
      },
      "source": [
        "name_pot = fifa[['Name','POT']]"
      ],
      "execution_count": 206,
      "outputs": []
    },
    {
      "cell_type": "code",
      "metadata": {
        "id": "2sJdFRz4mJM1",
        "colab": {
          "base_uri": "https://localhost:8080/",
          "height": 418
        },
        "outputId": "a03e7fd2-dc18-42e0-b6fc-168aa8c76754"
      },
      "source": [
        "name_pot"
      ],
      "execution_count": 207,
      "outputs": [
        {
          "output_type": "execute_result",
          "data": {
            "text/html": [
              "<div>\n",
              "<style scoped>\n",
              "    .dataframe tbody tr th:only-of-type {\n",
              "        vertical-align: middle;\n",
              "    }\n",
              "\n",
              "    .dataframe tbody tr th {\n",
              "        vertical-align: top;\n",
              "    }\n",
              "\n",
              "    .dataframe thead th {\n",
              "        text-align: right;\n",
              "    }\n",
              "</style>\n",
              "<table border=\"1\" class=\"dataframe\">\n",
              "  <thead>\n",
              "    <tr style=\"text-align: right;\">\n",
              "      <th></th>\n",
              "      <th>Name</th>\n",
              "      <th>POT</th>\n",
              "    </tr>\n",
              "  </thead>\n",
              "  <tbody>\n",
              "    <tr>\n",
              "      <th>0</th>\n",
              "      <td>Neal Maupay</td>\n",
              "      <td>81</td>\n",
              "    </tr>\n",
              "    <tr>\n",
              "      <th>1</th>\n",
              "      <td>Joseph Minala</td>\n",
              "      <td>74</td>\n",
              "    </tr>\n",
              "    <tr>\n",
              "      <th>2</th>\n",
              "      <td>Christos Tzolis</td>\n",
              "      <td>87</td>\n",
              "    </tr>\n",
              "    <tr>\n",
              "      <th>3</th>\n",
              "      <td>Saúl Ñíguez Esclápez</td>\n",
              "      <td>86</td>\n",
              "    </tr>\n",
              "    <tr>\n",
              "      <th>4</th>\n",
              "      <td>Kylian Mbappé</td>\n",
              "      <td>95</td>\n",
              "    </tr>\n",
              "    <tr>\n",
              "      <th>...</th>\n",
              "      <td>...</td>\n",
              "      <td>...</td>\n",
              "    </tr>\n",
              "    <tr>\n",
              "      <th>559</th>\n",
              "      <td>Vinícius José de Oliveira Júnior</td>\n",
              "      <td>90</td>\n",
              "    </tr>\n",
              "    <tr>\n",
              "      <th>562</th>\n",
              "      <td>Ben White</td>\n",
              "      <td>87</td>\n",
              "    </tr>\n",
              "    <tr>\n",
              "      <th>584</th>\n",
              "      <td>Frenkie de Jong</td>\n",
              "      <td>91</td>\n",
              "    </tr>\n",
              "    <tr>\n",
              "      <th>586</th>\n",
              "      <td>Adama Traoré Diarra</td>\n",
              "      <td>81</td>\n",
              "    </tr>\n",
              "    <tr>\n",
              "      <th>599</th>\n",
              "      <td>Weston McKennie</td>\n",
              "      <td>85</td>\n",
              "    </tr>\n",
              "  </tbody>\n",
              "</table>\n",
              "<p>148 rows × 2 columns</p>\n",
              "</div>"
            ],
            "text/plain": [
              "                                 Name  POT\n",
              "0                         Neal Maupay   81\n",
              "1                       Joseph Minala   74\n",
              "2                     Christos Tzolis   87\n",
              "3                Saúl Ñíguez Esclápez   86\n",
              "4                       Kylian Mbappé   95\n",
              "..                                ...  ...\n",
              "559  Vinícius José de Oliveira Júnior   90\n",
              "562                         Ben White   87\n",
              "584                   Frenkie de Jong   91\n",
              "586               Adama Traoré Diarra   81\n",
              "599                   Weston McKennie   85\n",
              "\n",
              "[148 rows x 2 columns]"
            ]
          },
          "metadata": {},
          "execution_count": 207
        }
      ]
    },
    {
      "cell_type": "markdown",
      "metadata": {
        "id": "PR0Fx_RS-YiP"
      },
      "source": [
        "Plot a graph - Player's Name V/s Player's POT"
      ]
    },
    {
      "cell_type": "code",
      "metadata": {
        "id": "C36ovwHN05kP",
        "colab": {
          "base_uri": "https://localhost:8080/",
          "height": 625
        },
        "outputId": "56c64c1c-6e90-41a1-a55b-0255ce5a5824"
      },
      "source": [
        "plt.figure(figsize=(10,10))\n",
        "plt.bar(name_pot.Name.head(10),name_pot.POT.head(10))\n",
        "plt.xlabel('Name')\n",
        "plt.ylabel('POT')\n"
      ],
      "execution_count": 217,
      "outputs": [
        {
          "output_type": "execute_result",
          "data": {
            "text/plain": [
              "Text(0, 0.5, 'POT')"
            ]
          },
          "metadata": {},
          "execution_count": 217
        },
        {
          "output_type": "display_data",
          "data": {
            "image/png": "[encoded data removed]",
            "text/plain": [
              "<Figure size 720x720 with 1 Axes>"
            ]
          },
          "metadata": {
            "needs_background": "light"
          }
        }
      ]
    },
    {
      "cell_type": "markdown",
      "metadata": {
        "id": "7-qDcWHo_hZI"
      },
      "source": [
        "Plot a graph - Player's Name V/s Player's Wage"
      ]
    },
    {
      "cell_type": "code",
      "metadata": {
        "id": "fjGtV91G1TXG",
        "colab": {
          "base_uri": "https://localhost:8080/",
          "height": 1000
        },
        "outputId": "89d355b3-8242-4e45-9b9a-69f91d613aa2"
      },
      "source": [
        "plt.figure(figsize=(20,20))\n",
        "plt.bar(fifa.Name,fifa.Wage)\n",
        "plt.xlabel('Name')\n",
        "plt.ylabel('Wage')\n"
      ],
      "execution_count": 220,
      "outputs": [
        {
          "output_type": "execute_result",
          "data": {
            "text/plain": [
              "Text(0, 0.5, 'Wage')"
            ]
          },
          "metadata": {},
          "execution_count": 220
        },
        {
          "output_type": "display_data",
          "data": {
            "image/png": "[encoded data removed]",
            "text/plain": [
              "<Figure size 1440x1440 with 1 Axes>"
            ]
          },
          "metadata": {
            "needs_background": "light"
          }
        }
      ]
    },
    {
      "cell_type": "markdown",
      "metadata": {
        "id": "D4HyBS6vA1Lo"
      },
      "source": [
        "Find the player who has scored highest number of goals"
      ]
    },
    {
      "cell_type": "code",
      "metadata": {
        "colab": {
          "base_uri": "https://localhost:8080/"
        },
        "id": "3ia3F9QyT4Ss",
        "outputId": "ed16836f-432b-4b2a-e831-677ac770d666"
      },
      "source": [
        "print(f\"The highest score of player is {(fifa[fifa.Hits== min(fifa.Hits)]['Name'].unique())[0]}\")"
      ],
      "execution_count": 221,
      "outputs": [
        {
          "output_type": "stream",
          "text": [
            "The highest score of player is Joseph Minala\n"
          ],
          "name": "stdout"
        }
      ]
    },
    {
      "cell_type": "markdown",
      "metadata": {
        "id": "Tc9puy5jBSa4"
      },
      "source": [
        "Find all the players whose Potential is more than equal to 90"
      ]
    },
    {
      "cell_type": "code",
      "metadata": {
        "id": "sBzirx33VH4P",
        "colab": {
          "base_uri": "https://localhost:8080/"
        },
        "outputId": "1988dcdd-99ce-4312-da91-ef24f694278a"
      },
      "source": [
        "fifa[fifa.POT > 90]['Name']"
      ],
      "execution_count": 225,
      "outputs": [
        {
          "output_type": "execute_result",
          "data": {
            "text/plain": [
              "4                      Kylian Mbappé\n",
              "6       C. Ronaldo dos Santos Aveiro\n",
              "16                    Erling Haaland\n",
              "17                    Matvey Safonov\n",
              "18              Pedro González López\n",
              "20                      Lionel Messi\n",
              "47     Bruno Miguel Borges Fernandes\n",
              "48                        Phil Foden\n",
              "54                   Frenkie de Jong\n",
              "122                    Kylian Mbappé\n",
              "135                   Matvey Safonov\n",
              "183     C. Ronaldo dos Santos Aveiro\n",
              "242     C. Ronaldo dos Santos Aveiro\n",
              "252                   Erling Haaland\n",
              "312                   Matvey Safonov\n",
              "315                     Lionel Messi\n",
              "360     C. Ronaldo dos Santos Aveiro\n",
              "407                  Frenkie de Jong\n",
              "429                   Erling Haaland\n",
              "431             Pedro González López\n",
              "479                     Jadon Sancho\n",
              "549             Pedro González López\n",
              "584                  Frenkie de Jong\n",
              "Name: Name, dtype: object"
            ]
          },
          "metadata": {},
          "execution_count": 225
        }
      ]
    },
    {
      "cell_type": "markdown",
      "metadata": {
        "id": "NrL2RZIkBnPU"
      },
      "source": [
        "Find all the players whose Potential is more than 90 and the age < 20"
      ]
    },
    {
      "cell_type": "code",
      "metadata": {
        "colab": {
          "base_uri": "https://localhost:8080/"
        },
        "id": "wbFrAkfKBqYr",
        "outputId": "dbdec3f9-9fcd-4eec-f336-06e490acf748"
      },
      "source": [
        "fifa[(fifa.POT > 90) & (fifa.Age < 20) ]['Name']"
      ],
      "execution_count": 233,
      "outputs": [
        {
          "output_type": "execute_result",
          "data": {
            "text/plain": [
              "16           Erling Haaland\n",
              "18     Pedro González López\n",
              "252          Erling Haaland\n",
              "429          Erling Haaland\n",
              "431    Pedro González López\n",
              "549    Pedro González López\n",
              "Name: Name, dtype: object"
            ]
          },
          "metadata": {},
          "execution_count": 233
        }
      ]
    },
    {
      "cell_type": "markdown",
      "metadata": {
        "id": "JVZRrHAUCsfO"
      },
      "source": [
        "Find all the players whose values >10 but wage <50"
      ]
    },
    {
      "cell_type": "code",
      "metadata": {
        "colab": {
          "base_uri": "https://localhost:8080/"
        },
        "id": "KaqniYcrC0PL",
        "outputId": "8095441d-0601-41fa-e915-a9c6d9543830"
      },
      "source": [
        "fifa[(fifa.Value > 10) & (fifa.Wage < 50) ]['Name']"
      ],
      "execution_count": 234,
      "outputs": [
        {
          "output_type": "execute_result",
          "data": {
            "text/plain": [
              "5                          Jules Koundé\n",
              "7      Matheus Santos Carneiro Da Cunha\n",
              "15                    Eduardo Camavinga\n",
              "18                 Pedro González López\n",
              "22                       Anssumane Fati\n",
              "25                     Ryan Gravenberch\n",
              "26                            Luis Díaz\n",
              "31                            Ben White\n",
              "32                      Boubacar Kamara\n",
              "33                          Bukayo Saka\n",
              "34                      Jude Bellingham\n",
              "36            Antony Matheus dos Santos\n",
              "38                   Dominik Szoboszlai\n",
              "40                        Florian Wirtz\n",
              "42                      Mason Greenwood\n",
              "44                      Alphonso Davies\n",
              "46                           Cody Gakpo\n",
              "50        Nuno Alexandre Tavares Mendes\n",
              "81                       Anssumane Fati\n",
              "123                        Jules Koundé\n",
              "149                           Ben White\n",
              "160                     Mason Greenwood\n",
              "179    Gabriel Teodoro Martinelli Silva\n",
              "184    Matheus Santos Carneiro Da Cunha\n",
              "199                      Anssumane Fati\n",
              "223                          Cody Gakpo\n",
              "239                     Dayot Upamecano\n",
              "243    Matheus Santos Carneiro Da Cunha\n",
              "251                   Eduardo Camavinga\n",
              "286       Nuno Alexandre Tavares Mendes\n",
              "297                     Dayot Upamecano\n",
              "299                       Nikola Vlašić\n",
              "300                        Jules Koundé\n",
              "302    Matheus Santos Carneiro Da Cunha\n",
              "342       Nuno Alexandre Tavares Mendes\n",
              "361    Matheus Santos Carneiro Da Cunha\n",
              "415                     Dayot Upamecano\n",
              "431                Pedro González López\n",
              "435                      Anssumane Fati\n",
              "444                           Ben White\n",
              "457                     Alphonso Davies\n",
              "506                     Jude Bellingham\n",
              "549                Pedro González López\n",
              "553                      Anssumane Fati\n",
              "556                           Luis Díaz\n",
              "562                           Ben White\n",
              "599                     Weston McKennie\n",
              "Name: Name, dtype: object"
            ]
          },
          "metadata": {},
          "execution_count": 234
        }
      ]
    },
    {
      "cell_type": "markdown",
      "metadata": {
        "id": "Tb9BixeRCyOv"
      },
      "source": [
        "List out the players in FC Barcelona team"
      ]
    },
    {
      "cell_type": "code",
      "metadata": {
        "colab": {
          "base_uri": "https://localhost:8080/"
        },
        "id": "94BQ5ic3DQTO",
        "outputId": "23ea0c10-d7b2-454f-b450-24c8617a0c79"
      },
      "source": [
        "fifa[fifa.Team == 'FC Barcelona']['Name']"
      ],
      "execution_count": 260,
      "outputs": [
        {
          "output_type": "execute_result",
          "data": {
            "text/plain": [
              "18     Pedro González López\n",
              "20             Lionel Messi\n",
              "22           Anssumane Fati\n",
              "37             Sergiño Dest\n",
              "49             Ilaix Moriba\n",
              "54          Frenkie de Jong\n",
              "81           Anssumane Fati\n",
              "199          Anssumane Fati\n",
              "315            Lionel Messi\n",
              "407         Frenkie de Jong\n",
              "431    Pedro González López\n",
              "435          Anssumane Fati\n",
              "549    Pedro González López\n",
              "553          Anssumane Fati\n",
              "584         Frenkie de Jong\n",
              "Name: Name, dtype: object"
            ]
          },
          "metadata": {},
          "execution_count": 260
        }
      ]
    },
    {
      "cell_type": "markdown",
      "metadata": {
        "id": "aoff17OtEJM2"
      },
      "source": [
        "Total number of teams and name of teams"
      ]
    },
    {
      "cell_type": "code",
      "metadata": {
        "colab": {
          "base_uri": "https://localhost:8080/"
        },
        "id": "No-RYOSzDqSG",
        "outputId": "434303b7-0c16-4270-e84b-f3effef4903d"
      },
      "source": [
        "print(f'Total number of teams : {fifa.Team.nunique()}')"
      ],
      "execution_count": 246,
      "outputs": [
        {
          "output_type": "stream",
          "text": [
            "Total number of teams : 46\n"
          ],
          "name": "stdout"
        }
      ]
    },
    {
      "cell_type": "code",
      "metadata": {
        "colab": {
          "base_uri": "https://localhost:8080/"
        },
        "id": "pwTGz17xEesn",
        "outputId": "23e0e50e-b108-4054-b8ba-12adb910e9f9"
      },
      "source": [
        "print(f'Total teams : {fifa.Team.unique()}')"
      ],
      "execution_count": 247,
      "outputs": [
        {
          "output_type": "stream",
          "text": [
            "Total teams : ['Brighton & Hove Albion' 'Lazio' 'PAOK' 'Atlético Madrid'\n",
            " 'Paris Saint-Germain' 'Sevilla FC' 'Juventus' 'Hertha BSC' 'FC Metz'\n",
            " 'PSV' 'FCSB (Steaua)' 'SK Rapid Wien' 'SV Werder Bremen'\n",
            " 'Olympique Lyonnais' 'Stade Rennais FC' 'Borussia Dortmund' 'Russia'\n",
            " 'FC Barcelona' 'West Ham United' 'Hellas Verona' 'Blackburn Rovers'\n",
            " 'Ajax' 'FC Porto' 'Real Valladolid CF' 'Real Madrid' 'Dinamo Zagreb'\n",
            " 'New England Revolution' 'Olympique de Marseille' 'Arsenal' 'Everton'\n",
            " 'RB Leipzig' 'Bayer 04 Leverkusen' 'Inter' 'Manchester United'\n",
            " 'FC Bayern München' 'Manchester City' 'Sporting CP' 'Deportes Tolima'\n",
            " 'Chelsea' 'FC Dallas' 'Wolverhampton Wanderers' 'Aston Villa'\n",
            " 'FC St. Gallen' 'PFC CSKA Moscow' 'Sparta Praha' 'Independiente']\n"
          ],
          "name": "stdout"
        }
      ]
    },
    {
      "cell_type": "markdown",
      "metadata": {
        "id": "ykg1NBO-Ex8P"
      },
      "source": [
        "List out the names of the players in each team respectively"
      ]
    },
    {
      "cell_type": "code",
      "metadata": {
        "colab": {
          "base_uri": "https://localhost:8080/"
        },
        "id": "kbCf-4pFBU7F",
        "outputId": "b4ef572e-9bd0-4807-f94e-895a828d632e"
      },
      "source": [
        "for i in range(fifa.Team.nunique()):\n",
        "  print(f'Team Name : {(fifa.Team.unique())[i]}') \n",
        "  print('Players')\n",
        "  print((fifa[fifa.Team ==(fifa.Team.unique())[i] ]['Name']).unique())\n",
        "  print('\\n')"
      ],
      "execution_count": 272,
      "outputs": [
        {
          "output_type": "stream",
          "text": [
            "Team Name : Brighton & Hove Albion\n",
            "Players\n",
            "['Neal Maupay' 'Ben White' 'Yves Bissouma']\n",
            "\n",
            "\n",
            "Team Name : Lazio\n",
            "Players\n",
            "['Joseph Minala' 'Joaquín Correa']\n",
            "\n",
            "\n",
            "Team Name : PAOK\n",
            "Players\n",
            "['Christos Tzolis']\n",
            "\n",
            "\n",
            "Team Name : Atlético Madrid\n",
            "Players\n",
            "['Saúl Ñíguez Esclápez']\n",
            "\n",
            "\n",
            "Team Name : Paris Saint-Germain\n",
            "Players\n",
            "['Kylian Mbappé']\n",
            "\n",
            "\n",
            "Team Name : Sevilla FC\n",
            "Players\n",
            "['Jules Koundé']\n",
            "\n",
            "\n",
            "Team Name : Juventus\n",
            "Players\n",
            "['C. Ronaldo dos Santos Aveiro' 'Weston McKennie']\n",
            "\n",
            "\n",
            "Team Name : Hertha BSC\n",
            "Players\n",
            "['Matheus Santos Carneiro Da Cunha']\n",
            "\n",
            "\n",
            "Team Name : FC Metz\n",
            "Players\n",
            "['Pape Matar Sarr']\n",
            "\n",
            "\n",
            "Team Name : PSV\n",
            "Players\n",
            "['Noni Madueke' 'Cody Gakpo']\n",
            "\n",
            "\n",
            "Team Name : FCSB (Steaua)\n",
            "Players\n",
            "['Olimpiu Moruțan']\n",
            "\n",
            "\n",
            "Team Name : SK Rapid Wien\n",
            "Players\n",
            "['Yusuf Demir']\n",
            "\n",
            "\n",
            "Team Name : SV Werder Bremen\n",
            "Players\n",
            "['Josh Sargent']\n",
            "\n",
            "\n",
            "Team Name : Olympique Lyonnais\n",
            "Players\n",
            "['Houssem Aouar' 'Maxwel Cornet' 'Rayan Cherki']\n",
            "\n",
            "\n",
            "Team Name : Stade Rennais FC\n",
            "Players\n",
            "['Eduardo Camavinga']\n",
            "\n",
            "\n",
            "Team Name : Borussia Dortmund\n",
            "Players\n",
            "['Erling Haaland' 'Thomas Delaney' 'Jude Bellingham' 'Jadon Sancho']\n",
            "\n",
            "\n",
            "Team Name : Russia\n",
            "Players\n",
            "['Matvey Safonov']\n",
            "\n",
            "\n",
            "Team Name : FC Barcelona\n",
            "Players\n",
            "['Pedro González López' 'Lionel Messi' 'Anssumane Fati' 'Sergiño Dest'\n",
            " 'Ilaix Moriba' 'Frenkie de Jong']\n",
            "\n",
            "\n",
            "Team Name : West Ham United\n",
            "Players\n",
            "['Michail Antonio']\n",
            "\n",
            "\n",
            "Team Name : Hellas Verona\n",
            "Players\n",
            "['Federico Dimarco']\n",
            "\n",
            "\n",
            "Team Name : Blackburn Rovers\n",
            "Players\n",
            "['Harvey Elliott']\n",
            "\n",
            "\n",
            "Team Name : Ajax\n",
            "Players\n",
            "['Ryan Gravenberch' 'Antony Matheus dos Santos']\n",
            "\n",
            "\n",
            "Team Name : FC Porto\n",
            "Players\n",
            "['Luis Díaz']\n",
            "\n",
            "\n",
            "Team Name : Real Valladolid CF\n",
            "Players\n",
            "['Marcos André de Sousa Mendonça']\n",
            "\n",
            "\n",
            "Team Name : Real Madrid\n",
            "Players\n",
            "['Vinícius José de Oliveira Júnior' 'Federico Valverde']\n",
            "\n",
            "\n",
            "Team Name : Dinamo Zagreb\n",
            "Players\n",
            "['Joško Gvardiol']\n",
            "\n",
            "\n",
            "Team Name : New England Revolution\n",
            "Players\n",
            "['Tajon Buchanan']\n",
            "\n",
            "\n",
            "Team Name : Olympique de Marseille\n",
            "Players\n",
            "['Boubacar Kamara']\n",
            "\n",
            "\n",
            "Team Name : Arsenal\n",
            "Players\n",
            "['Bukayo Saka' 'Martin Ødegaard' 'Gabriel Teodoro Martinelli Silva']\n",
            "\n",
            "\n",
            "Team Name : Everton\n",
            "Players\n",
            "['Richarlison de Andrade']\n",
            "\n",
            "\n",
            "Team Name : RB Leipzig\n",
            "Players\n",
            "['Dominik Szoboszlai' 'Dayot Upamecano']\n",
            "\n",
            "\n",
            "Team Name : Bayer 04 Leverkusen\n",
            "Players\n",
            "['Florian Wirtz']\n",
            "\n",
            "\n",
            "Team Name : Inter\n",
            "Players\n",
            "['Romelu Lukaku']\n",
            "\n",
            "\n",
            "Team Name : Manchester United\n",
            "Players\n",
            "['Mason Greenwood' 'Bruno Miguel Borges Fernandes']\n",
            "\n",
            "\n",
            "Team Name : FC Bayern München\n",
            "Players\n",
            "['Alphonso Davies']\n",
            "\n",
            "\n",
            "Team Name : Manchester City\n",
            "Players\n",
            "['Phil Foden']\n",
            "\n",
            "\n",
            "Team Name : Sporting CP\n",
            "Players\n",
            "['Nuno Alexandre Tavares Mendes']\n",
            "\n",
            "\n",
            "Team Name : Deportes Tolima\n",
            "Players\n",
            "['Jaminton Campaz']\n",
            "\n",
            "\n",
            "Team Name : Chelsea\n",
            "Players\n",
            "['Kurt Zouma' 'Mason Mount' 'Reece James']\n",
            "\n",
            "\n",
            "Team Name : FC Dallas\n",
            "Players\n",
            "['Ricardo Pepi']\n",
            "\n",
            "\n",
            "Team Name : Wolverhampton Wanderers\n",
            "Players\n",
            "['Adama Traoré Diarra']\n",
            "\n",
            "\n",
            "Team Name : Aston Villa\n",
            "Players\n",
            "['Jack Grealish']\n",
            "\n",
            "\n",
            "Team Name : FC St. Gallen\n",
            "Players\n",
            "['Leonidas Stergiou']\n",
            "\n",
            "\n",
            "Team Name : PFC CSKA Moscow\n",
            "Players\n",
            "['Nikola Vlašić']\n",
            "\n",
            "\n",
            "Team Name : Sparta Praha\n",
            "Players\n",
            "['Adam Hložek']\n",
            "\n",
            "\n",
            "Team Name : Independiente\n",
            "Players\n",
            "['Alan Velasco']\n",
            "\n",
            "\n"
          ],
          "name": "stdout"
        }
      ]
    }
  ]
}